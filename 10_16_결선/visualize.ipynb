{
 "cells": [
  {
   "cell_type": "code",
   "execution_count": null,
   "metadata": {},
   "outputs": [],
   "source": [
    "#corr 매트릭스 만들기\n",
    "corr_matrix = train[columns].corr()\n"
   ]
  },
  {
   "cell_type": "code",
   "execution_count": null,
   "metadata": {},
   "outputs": [],
   "source": [
    "# 히트맵 시각화\n",
    "sns.heatmap(round(corr_matrix,1), annot=True)\n",
    "fig = plt.gcf()\n",
    "fig.set_size_inches(10,8)\n",
    "plt.show()"
   ]
  },
  {
   "cell_type": "code",
   "execution_count": null,
   "metadata": {},
   "outputs": [],
   "source": [
    "def dayflow_graph(train, datecolumn, column, target):\n",
    "# target값과 비교해주기위해 곱하거나 나누기 해주려면 밑에 변수 사용\n",
    "  multiple = 100\n",
    "  (train.groupby([datecolumn])[column].mean()*x).plot(figsize=(18, 4))\n",
    "  train.groupby([datecolumn])[target].mean().plot(figsize=(18, 4))\n",
    "  plt.legend([column, target])\n",
    "  plt.axvline(x = 183, color = 'r', linestyle = '--',) # 이 숫자에는 1/3 선을 넣어줄 곳\n",
    "  plt.axvline(x = 214, color = 'r', linestyle = '--',) # 이 숫자에는 1/3 선을 넣어줄 곳\n",
    "  plt.title('column 과 target 추이')\n",
    "  plt.show()\n",
    "\n",
    "dayflow_graph(train, 'dayofyear', '', 'target')"
   ]
  }
 ],
 "metadata": {
  "language_info": {
   "name": "python"
  },
  "orig_nbformat": 4
 },
 "nbformat": 4,
 "nbformat_minor": 2
}
