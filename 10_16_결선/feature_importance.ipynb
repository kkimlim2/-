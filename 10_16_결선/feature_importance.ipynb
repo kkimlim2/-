{
 "cells": [
  {
   "cell_type": "code",
   "execution_count": null,
   "metadata": {},
   "outputs": [],
   "source": [
    "#아래는 함수로 여러 모형에 대한 permuation importance를 구할 수 있도록 구현한 방법입니다.\n",
    "#random forest, gradient boosting 그리고 xg boosting에 대해서\n",
    "#permutation importance를 구하고,\n",
    "#\"iloc[:45]\" 이 부분에서 보다시피 표로 45개의 변수까지의 importance값을 return값으로 받습니다.\n",
    "\n",
    "\n",
    "from sklearn.ensemble import RandomForestClassifier\n",
    "from sklearn.ensemble import GradientBoostingClassifier\n",
    "import xgboost\n",
    "from xgboost import XGBClassifier\n",
    "from sklearn.inspection import permutation_importance\n",
    " \n",
    "def clf(x, y, col_list):\n",
    "# random forest\n",
    "    rfc = RandomForestClassifier(max_depth=12, random_state=99, criterion = \"entropy\",n_estimators = 3, max_features='auto')\n",
    "    rfc.fit(x, y)\n",
    "    result_rfc = permutation_importance(rfc, x,y , n_repeats=10, random_state=333, n_jobs=2)\n",
    "    sorted_idx_rfc = result_rfc.importances_mean.argsort()\n",
    "    importances_rf = pd.DataFrame(result_rfc.importances_mean[sorted_idx_rfc], index=x.columns[sorted_idx_rfc]).sort_values(0, ascending=False).iloc[:45]\n",
    "    \n",
    " # gradient boosting\n",
    "    gb = GradientBoostingClassifier(criterion='friedman_mse',loss='deviance', max_depth=5, n_estimators=30, random_state=99, max_features='auto')\n",
    "    gb.fit(x, y)\n",
    "    result_gb = permutation_importance(gb, x,y , n_repeats=10, random_state=333, n_jobs=2)\n",
    "    sorted_idx_gb = result_gb.importances_mean.argsort()\n",
    "    importances_gb = pd.DataFrame(result_gb.importances_mean[sorted_idx_gb], index=x.columns[sorted_idx_gb]).sort_values(0, ascending=False).iloc[:45]\n",
    "    \n",
    " # xg boosting\n",
    "    xg = XGBClassifier(booster='gbtree', max_depth=7,  gamma=0.5, learning_rate=0.01, n_estimators=3, random_state=99)\n",
    "    xg.fit(x, y)\n",
    "    result_xg = permutation_importance(xg, x,y , n_repeats=10, random_state=333, n_jobs=2)\n",
    "    sorted_idx_xg = result_xg.importances_mean.argsort()\n",
    "    importances_xg = pd.DataFrame(result_xg.importances_mean[sorted_idx_xg], index=x.columns[sorted_idx_xg]).sort_values(0, ascending=False).iloc[:45]\n",
    " \n",
    "    return importances_rf, importances_gb,importances_xg\n",
    "\n",
    "# 수치형으로 보기, 얘네 평균내도 ㄱㅊ\n",
    "rfc_list, gb_list, xg_list=clf(x,y,col_list)"
   ]
  }
 ],
 "metadata": {
  "language_info": {
   "name": "python"
  },
  "orig_nbformat": 4
 },
 "nbformat": 4,
 "nbformat_minor": 2
}
