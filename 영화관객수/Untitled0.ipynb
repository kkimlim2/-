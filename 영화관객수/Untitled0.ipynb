{
  "nbformat": 4,
  "nbformat_minor": 0,
  "metadata": {
    "colab": {
      "name": "Untitled0.ipynb",
      "provenance": []
    },
    "kernelspec": {
      "name": "python3",
      "display_name": "Python 3"
    },
    "language_info": {
      "name": "python"
    }
  },
  "cells": [
    {
      "cell_type": "code",
      "metadata": {
        "id": "lR6-rKyvSYa2"
      },
      "source": [
        "import pandas as pd #판다스 패키지 불러오기\n",
        "import lightgbm as lgb"
      ],
      "execution_count": 1,
      "outputs": []
    },
    {
      "cell_type": "code",
      "metadata": {
        "id": "fpJYd0m7Sout"
      },
      "source": [
        "# 데이터 불러오기\n",
        "train = pd.read_csv('/content/movies_train.csv')\n",
        "test = pd.read_csv('/content/movies_test.csv')\n",
        "submission = pd.read_csv('/content/submission.csv')"
      ],
      "execution_count": 2,
      "outputs": []
    },
    {
      "cell_type": "code",
      "metadata": {
        "colab": {
          "base_uri": "https://localhost:8080/"
        },
        "id": "5QRguQ3nS1Eu",
        "outputId": "839077b0-1840-4d94-c5af-f2045733ddf9"
      },
      "source": [
        "print(train.shape)\n",
        "print(test.shape)\n",
        "print(submission.shape)"
      ],
      "execution_count": 3,
      "outputs": [
        {
          "output_type": "stream",
          "name": "stdout",
          "text": [
            "(600, 12)\n",
            "(243, 11)\n",
            "(243, 2)\n"
          ]
        }
      ]
    },
    {
      "cell_type": "code",
      "metadata": {
        "id": "0hsnaj5-S8hr"
      },
      "source": [
        "pd.options.display.float_format = '{:.1f}'.format"
      ],
      "execution_count": 4,
      "outputs": []
    },
    {
      "cell_type": "code",
      "metadata": {
        "colab": {
          "base_uri": "https://localhost:8080/",
          "height": 447
        },
        "id": "RB9G-mYKTASI",
        "outputId": "30222625-96f6-4cb7-fc06-11bd1affa971"
      },
      "source": [
        "train[['genre', 'box_off_num']].groupby('genre').mean().sort_values('box_off_num')"
      ],
      "execution_count": 5,
      "outputs": [
        {
          "output_type": "execute_result",
          "data": {
            "text/html": [
              "<div>\n",
              "<style scoped>\n",
              "    .dataframe tbody tr th:only-of-type {\n",
              "        vertical-align: middle;\n",
              "    }\n",
              "\n",
              "    .dataframe tbody tr th {\n",
              "        vertical-align: top;\n",
              "    }\n",
              "\n",
              "    .dataframe thead th {\n",
              "        text-align: right;\n",
              "    }\n",
              "</style>\n",
              "<table border=\"1\" class=\"dataframe\">\n",
              "  <thead>\n",
              "    <tr style=\"text-align: right;\">\n",
              "      <th></th>\n",
              "      <th>box_off_num</th>\n",
              "    </tr>\n",
              "    <tr>\n",
              "      <th>genre</th>\n",
              "      <th></th>\n",
              "    </tr>\n",
              "  </thead>\n",
              "  <tbody>\n",
              "    <tr>\n",
              "      <th>뮤지컬</th>\n",
              "      <td>6627.0</td>\n",
              "    </tr>\n",
              "    <tr>\n",
              "      <th>다큐멘터리</th>\n",
              "      <td>67172.3</td>\n",
              "    </tr>\n",
              "    <tr>\n",
              "      <th>서스펜스</th>\n",
              "      <td>82611.0</td>\n",
              "    </tr>\n",
              "    <tr>\n",
              "      <th>애니메이션</th>\n",
              "      <td>181926.7</td>\n",
              "    </tr>\n",
              "    <tr>\n",
              "      <th>멜로/로맨스</th>\n",
              "      <td>425968.0</td>\n",
              "    </tr>\n",
              "    <tr>\n",
              "      <th>미스터리</th>\n",
              "      <td>527548.2</td>\n",
              "    </tr>\n",
              "    <tr>\n",
              "      <th>공포</th>\n",
              "      <td>590832.5</td>\n",
              "    </tr>\n",
              "    <tr>\n",
              "      <th>드라마</th>\n",
              "      <td>625689.8</td>\n",
              "    </tr>\n",
              "    <tr>\n",
              "      <th>코미디</th>\n",
              "      <td>1193914.0</td>\n",
              "    </tr>\n",
              "    <tr>\n",
              "      <th>SF</th>\n",
              "      <td>1788345.7</td>\n",
              "    </tr>\n",
              "    <tr>\n",
              "      <th>액션</th>\n",
              "      <td>2203974.1</td>\n",
              "    </tr>\n",
              "    <tr>\n",
              "      <th>느와르</th>\n",
              "      <td>2263695.1</td>\n",
              "    </tr>\n",
              "  </tbody>\n",
              "</table>\n",
              "</div>"
            ],
            "text/plain": [
              "        box_off_num\n",
              "genre              \n",
              "뮤지컬          6627.0\n",
              "다큐멘터리       67172.3\n",
              "서스펜스        82611.0\n",
              "애니메이션      181926.7\n",
              "멜로/로맨스     425968.0\n",
              "미스터리       527548.2\n",
              "공포         590832.5\n",
              "드라마        625689.8\n",
              "코미디       1193914.0\n",
              "SF        1788345.7\n",
              "액션        2203974.1\n",
              "느와르       2263695.1"
            ]
          },
          "metadata": {},
          "execution_count": 5
        }
      ]
    },
    {
      "cell_type": "code",
      "metadata": {
        "id": "VjYvn-ysTB-t"
      },
      "source": [
        "pd.reset_option('display.float_format')"
      ],
      "execution_count": 6,
      "outputs": []
    },
    {
      "cell_type": "code",
      "metadata": {
        "colab": {
          "base_uri": "https://localhost:8080/",
          "height": 232
        },
        "id": "GCZYXP98TErb",
        "outputId": "c3bb50be-c7c9-4d40-c98e-9f60c513326d"
      },
      "source": [
        "train.corr()"
      ],
      "execution_count": 7,
      "outputs": [
        {
          "output_type": "execute_result",
          "data": {
            "text/html": [
              "<div>\n",
              "<style scoped>\n",
              "    .dataframe tbody tr th:only-of-type {\n",
              "        vertical-align: middle;\n",
              "    }\n",
              "\n",
              "    .dataframe tbody tr th {\n",
              "        vertical-align: top;\n",
              "    }\n",
              "\n",
              "    .dataframe thead th {\n",
              "        text-align: right;\n",
              "    }\n",
              "</style>\n",
              "<table border=\"1\" class=\"dataframe\">\n",
              "  <thead>\n",
              "    <tr style=\"text-align: right;\">\n",
              "      <th></th>\n",
              "      <th>time</th>\n",
              "      <th>dir_prev_bfnum</th>\n",
              "      <th>dir_prev_num</th>\n",
              "      <th>num_staff</th>\n",
              "      <th>num_actor</th>\n",
              "      <th>box_off_num</th>\n",
              "    </tr>\n",
              "  </thead>\n",
              "  <tbody>\n",
              "    <tr>\n",
              "      <th>time</th>\n",
              "      <td>1.000000</td>\n",
              "      <td>0.264675</td>\n",
              "      <td>0.306727</td>\n",
              "      <td>0.623205</td>\n",
              "      <td>0.114153</td>\n",
              "      <td>0.441452</td>\n",
              "    </tr>\n",
              "    <tr>\n",
              "      <th>dir_prev_bfnum</th>\n",
              "      <td>0.264675</td>\n",
              "      <td>1.000000</td>\n",
              "      <td>0.131822</td>\n",
              "      <td>0.323521</td>\n",
              "      <td>0.083818</td>\n",
              "      <td>0.283184</td>\n",
              "    </tr>\n",
              "    <tr>\n",
              "      <th>dir_prev_num</th>\n",
              "      <td>0.306727</td>\n",
              "      <td>0.131822</td>\n",
              "      <td>1.000000</td>\n",
              "      <td>0.450706</td>\n",
              "      <td>0.014006</td>\n",
              "      <td>0.259674</td>\n",
              "    </tr>\n",
              "    <tr>\n",
              "      <th>num_staff</th>\n",
              "      <td>0.623205</td>\n",
              "      <td>0.323521</td>\n",
              "      <td>0.450706</td>\n",
              "      <td>1.000000</td>\n",
              "      <td>0.077871</td>\n",
              "      <td>0.544265</td>\n",
              "    </tr>\n",
              "    <tr>\n",
              "      <th>num_actor</th>\n",
              "      <td>0.114153</td>\n",
              "      <td>0.083818</td>\n",
              "      <td>0.014006</td>\n",
              "      <td>0.077871</td>\n",
              "      <td>1.000000</td>\n",
              "      <td>0.111179</td>\n",
              "    </tr>\n",
              "    <tr>\n",
              "      <th>box_off_num</th>\n",
              "      <td>0.441452</td>\n",
              "      <td>0.283184</td>\n",
              "      <td>0.259674</td>\n",
              "      <td>0.544265</td>\n",
              "      <td>0.111179</td>\n",
              "      <td>1.000000</td>\n",
              "    </tr>\n",
              "  </tbody>\n",
              "</table>\n",
              "</div>"
            ],
            "text/plain": [
              "                    time  dir_prev_bfnum  ...  num_actor  box_off_num\n",
              "time            1.000000        0.264675  ...   0.114153     0.441452\n",
              "dir_prev_bfnum  0.264675        1.000000  ...   0.083818     0.283184\n",
              "dir_prev_num    0.306727        0.131822  ...   0.014006     0.259674\n",
              "num_staff       0.623205        0.323521  ...   0.077871     0.544265\n",
              "num_actor       0.114153        0.083818  ...   1.000000     0.111179\n",
              "box_off_num     0.441452        0.283184  ...   0.111179     1.000000\n",
              "\n",
              "[6 rows x 6 columns]"
            ]
          },
          "metadata": {},
          "execution_count": 7
        }
      ]
    },
    {
      "cell_type": "code",
      "metadata": {
        "colab": {
          "base_uri": "https://localhost:8080/"
        },
        "id": "IkgHRxXsTGSE",
        "outputId": "ebe536c8-d441-4352-f2d5-6296d365622b"
      },
      "source": [
        "train['dir_prev_bfnum'].fillna(0, inplace = True)\n",
        "test[test['dir_prev_bfnum'].isna()]['dir_prev_num'].sum()"
      ],
      "execution_count": 8,
      "outputs": [
        {
          "output_type": "execute_result",
          "data": {
            "text/plain": [
              "0"
            ]
          },
          "metadata": {},
          "execution_count": 8
        }
      ]
    },
    {
      "cell_type": "code",
      "metadata": {
        "id": "u3dQ1qW3TMtL"
      },
      "source": [
        "test['dir_prev_bfnum'].fillna(0, inplace = True)"
      ],
      "execution_count": 9,
      "outputs": []
    },
    {
      "cell_type": "code",
      "metadata": {
        "id": "AFGyRtJTTOmF"
      },
      "source": [
        "model = lgb.LGBMRegressor(random_state=777, n_estimators=1000)"
      ],
      "execution_count": 10,
      "outputs": []
    },
    {
      "cell_type": "code",
      "metadata": {
        "id": "sLO1CqytTQSr"
      },
      "source": [
        "features = ['time', 'dir_prev_num', 'num_staff', 'num_actor']\n",
        "target = ['box_off_num']"
      ],
      "execution_count": 11,
      "outputs": []
    },
    {
      "cell_type": "code",
      "metadata": {
        "id": "3lPX0pI2TRem"
      },
      "source": [
        "X_train, X_test, y_train = train[features], test[features], train[target]"
      ],
      "execution_count": 12,
      "outputs": []
    },
    {
      "cell_type": "code",
      "metadata": {
        "colab": {
          "base_uri": "https://localhost:8080/"
        },
        "id": "kulaLkFfTS8L",
        "outputId": "7ccbe42e-3e1c-4b9b-8944-28e11e55bbd1"
      },
      "source": [
        "model.fit(X_train, y_train)"
      ],
      "execution_count": 13,
      "outputs": [
        {
          "output_type": "execute_result",
          "data": {
            "text/plain": [
              "LGBMRegressor(boosting_type='gbdt', class_weight=None, colsample_bytree=1.0,\n",
              "              importance_type='split', learning_rate=0.1, max_depth=-1,\n",
              "              min_child_samples=20, min_child_weight=0.001, min_split_gain=0.0,\n",
              "              n_estimators=1000, n_jobs=-1, num_leaves=31, objective=None,\n",
              "              random_state=777, reg_alpha=0.0, reg_lambda=0.0, silent=True,\n",
              "              subsample=1.0, subsample_for_bin=200000, subsample_freq=0)"
            ]
          },
          "metadata": {},
          "execution_count": 13
        }
      ]
    },
    {
      "cell_type": "code",
      "metadata": {
        "id": "QPDrwOZ6TVCD"
      },
      "source": [
        "singleLGBM = submission.copy()"
      ],
      "execution_count": 14,
      "outputs": []
    },
    {
      "cell_type": "code",
      "metadata": {
        "colab": {
          "base_uri": "https://localhost:8080/",
          "height": 202
        },
        "id": "vK_-i6y7TWsz",
        "outputId": "f2deab1b-218f-49c9-f84d-2be3e1a71706"
      },
      "source": [
        "singleLGBM.head()"
      ],
      "execution_count": 15,
      "outputs": [
        {
          "output_type": "execute_result",
          "data": {
            "text/html": [
              "<div>\n",
              "<style scoped>\n",
              "    .dataframe tbody tr th:only-of-type {\n",
              "        vertical-align: middle;\n",
              "    }\n",
              "\n",
              "    .dataframe tbody tr th {\n",
              "        vertical-align: top;\n",
              "    }\n",
              "\n",
              "    .dataframe thead th {\n",
              "        text-align: right;\n",
              "    }\n",
              "</style>\n",
              "<table border=\"1\" class=\"dataframe\">\n",
              "  <thead>\n",
              "    <tr style=\"text-align: right;\">\n",
              "      <th></th>\n",
              "      <th>title</th>\n",
              "      <th>box_off_num</th>\n",
              "    </tr>\n",
              "  </thead>\n",
              "  <tbody>\n",
              "    <tr>\n",
              "      <th>0</th>\n",
              "      <td>용서는 없다</td>\n",
              "      <td>0</td>\n",
              "    </tr>\n",
              "    <tr>\n",
              "      <th>1</th>\n",
              "      <td>아빠가 여자를 좋아해</td>\n",
              "      <td>0</td>\n",
              "    </tr>\n",
              "    <tr>\n",
              "      <th>2</th>\n",
              "      <td>하모니</td>\n",
              "      <td>0</td>\n",
              "    </tr>\n",
              "    <tr>\n",
              "      <th>3</th>\n",
              "      <td>의형제</td>\n",
              "      <td>0</td>\n",
              "    </tr>\n",
              "    <tr>\n",
              "      <th>4</th>\n",
              "      <td>평행 이론</td>\n",
              "      <td>0</td>\n",
              "    </tr>\n",
              "  </tbody>\n",
              "</table>\n",
              "</div>"
            ],
            "text/plain": [
              "         title  box_off_num\n",
              "0       용서는 없다            0\n",
              "1  아빠가 여자를 좋아해            0\n",
              "2          하모니            0\n",
              "3          의형제            0\n",
              "4        평행 이론            0"
            ]
          },
          "metadata": {},
          "execution_count": 15
        }
      ]
    },
    {
      "cell_type": "code",
      "metadata": {
        "id": "wZWnzPe4TZoK"
      },
      "source": [
        "singleLGBM['box_off_num'] = model.predict(X_test)"
      ],
      "execution_count": 16,
      "outputs": []
    },
    {
      "cell_type": "code",
      "metadata": {
        "colab": {
          "base_uri": "https://localhost:8080/",
          "height": 414
        },
        "id": "rPM14MLdUqad",
        "outputId": "6ef94883-fef1-4a67-d9bf-f67c9936023d"
      },
      "source": [
        "singleLGBM"
      ],
      "execution_count": 48,
      "outputs": [
        {
          "output_type": "execute_result",
          "data": {
            "text/html": [
              "<div>\n",
              "<style scoped>\n",
              "    .dataframe tbody tr th:only-of-type {\n",
              "        vertical-align: middle;\n",
              "    }\n",
              "\n",
              "    .dataframe tbody tr th {\n",
              "        vertical-align: top;\n",
              "    }\n",
              "\n",
              "    .dataframe thead th {\n",
              "        text-align: right;\n",
              "    }\n",
              "</style>\n",
              "<table border=\"1\" class=\"dataframe\">\n",
              "  <thead>\n",
              "    <tr style=\"text-align: right;\">\n",
              "      <th></th>\n",
              "      <th>title</th>\n",
              "      <th>box_off_num</th>\n",
              "    </tr>\n",
              "  </thead>\n",
              "  <tbody>\n",
              "    <tr>\n",
              "      <th>0</th>\n",
              "      <td>용서는 없다</td>\n",
              "      <td>2.817995e+06</td>\n",
              "    </tr>\n",
              "    <tr>\n",
              "      <th>1</th>\n",
              "      <td>아빠가 여자를 좋아해</td>\n",
              "      <td>3.753772e+05</td>\n",
              "    </tr>\n",
              "    <tr>\n",
              "      <th>2</th>\n",
              "      <td>하모니</td>\n",
              "      <td>-5.693243e+05</td>\n",
              "    </tr>\n",
              "    <tr>\n",
              "      <th>3</th>\n",
              "      <td>의형제</td>\n",
              "      <td>1.581189e+06</td>\n",
              "    </tr>\n",
              "    <tr>\n",
              "      <th>4</th>\n",
              "      <td>평행 이론</td>\n",
              "      <td>-5.277806e+05</td>\n",
              "    </tr>\n",
              "    <tr>\n",
              "      <th>...</th>\n",
              "      <td>...</td>\n",
              "      <td>...</td>\n",
              "    </tr>\n",
              "    <tr>\n",
              "      <th>238</th>\n",
              "      <td>해에게서 소년에게</td>\n",
              "      <td>5.007844e+05</td>\n",
              "    </tr>\n",
              "    <tr>\n",
              "      <th>239</th>\n",
              "      <td>울보 권투부</td>\n",
              "      <td>1.013858e+06</td>\n",
              "    </tr>\n",
              "    <tr>\n",
              "      <th>240</th>\n",
              "      <td>어떤살인</td>\n",
              "      <td>1.682068e+06</td>\n",
              "    </tr>\n",
              "    <tr>\n",
              "      <th>241</th>\n",
              "      <td>말하지 못한 비밀</td>\n",
              "      <td>3.002163e+05</td>\n",
              "    </tr>\n",
              "    <tr>\n",
              "      <th>242</th>\n",
              "      <td>조선안방 스캔들-칠거지악 2</td>\n",
              "      <td>1.139003e+04</td>\n",
              "    </tr>\n",
              "  </tbody>\n",
              "</table>\n",
              "<p>243 rows × 2 columns</p>\n",
              "</div>"
            ],
            "text/plain": [
              "               title   box_off_num\n",
              "0             용서는 없다  2.817995e+06\n",
              "1        아빠가 여자를 좋아해  3.753772e+05\n",
              "2                하모니 -5.693243e+05\n",
              "3                의형제  1.581189e+06\n",
              "4              평행 이론 -5.277806e+05\n",
              "..               ...           ...\n",
              "238        해에게서 소년에게  5.007844e+05\n",
              "239           울보 권투부  1.013858e+06\n",
              "240             어떤살인  1.682068e+06\n",
              "241        말하지 못한 비밀  3.002163e+05\n",
              "242  조선안방 스캔들-칠거지악 2  1.139003e+04\n",
              "\n",
              "[243 rows x 2 columns]"
            ]
          },
          "metadata": {},
          "execution_count": 48
        }
      ]
    },
    {
      "cell_type": "code",
      "metadata": {
        "id": "5oLUtQ3_TbId"
      },
      "source": [
        "from sklearn.model_selection import KFold"
      ],
      "execution_count": 17,
      "outputs": []
    },
    {
      "cell_type": "code",
      "metadata": {
        "id": "Pdk8l1DKTeVe"
      },
      "source": [
        "k_fold = KFold(n_splits=5, shuffle=True, random_state=777)"
      ],
      "execution_count": 18,
      "outputs": []
    },
    {
      "cell_type": "code",
      "metadata": {
        "colab": {
          "base_uri": "https://localhost:8080/"
        },
        "id": "qPa6Jmm0TfY5",
        "outputId": "546db905-3c49-47d7-a25e-d10f949a009b"
      },
      "source": [
        "for train_idx, val_idx in k_fold.split(X_train):\n",
        "    print(len(train_idx), len(val_idx))\n",
        "    break"
      ],
      "execution_count": 19,
      "outputs": [
        {
          "output_type": "stream",
          "name": "stdout",
          "text": [
            "480 120\n"
          ]
        }
      ]
    },
    {
      "cell_type": "code",
      "metadata": {
        "colab": {
          "base_uri": "https://localhost:8080/"
        },
        "id": "5Q2VDp_nTg2h",
        "outputId": "9ab878dc-4bea-4565-cfff-a29354287c7b"
      },
      "source": [
        "model = lgb.LGBMRegressor(random_state=777, n_estimators=1000)\n",
        "\n",
        "models = []\n",
        "\n",
        "for train_idx, val_idx in k_fold.split(X_train):\n",
        "    x_t = X_train.iloc[train_idx]\n",
        "    y_t = y_train.iloc[train_idx]\n",
        "    x_val = X_train.iloc[val_idx]\n",
        "    y_val = y_train.iloc[val_idx]\n",
        "    \n",
        "    models.append(model.fit(x_t, y_t, eval_set=(x_val, y_val), early_stopping_rounds=100, verbose = 100))"
      ],
      "execution_count": 20,
      "outputs": [
        {
          "output_type": "stream",
          "name": "stdout",
          "text": [
            "Training until validation scores don't improve for 100 rounds.\n",
            "[100]\tvalid_0's l2: 2.70572e+12\n",
            "Early stopping, best iteration is:\n",
            "[6]\tvalid_0's l2: 2.45438e+12\n",
            "Training until validation scores don't improve for 100 rounds.\n",
            "[100]\tvalid_0's l2: 3.90847e+12\n",
            "Early stopping, best iteration is:\n",
            "[33]\tvalid_0's l2: 3.72825e+12\n",
            "Training until validation scores don't improve for 100 rounds.\n",
            "[100]\tvalid_0's l2: 3.50344e+12\n",
            "Early stopping, best iteration is:\n",
            "[8]\tvalid_0's l2: 2.58737e+12\n",
            "Training until validation scores don't improve for 100 rounds.\n",
            "[100]\tvalid_0's l2: 1.45977e+12\n",
            "Early stopping, best iteration is:\n",
            "[11]\tvalid_0's l2: 1.26226e+12\n",
            "Training until validation scores don't improve for 100 rounds.\n",
            "[100]\tvalid_0's l2: 1.77214e+12\n",
            "Early stopping, best iteration is:\n",
            "[22]\tvalid_0's l2: 1.57631e+12\n"
          ]
        }
      ]
    },
    {
      "cell_type": "code",
      "metadata": {
        "colab": {
          "base_uri": "https://localhost:8080/"
        },
        "id": "02BWJm1ZTiIl",
        "outputId": "6b49225a-0fce-4c58-8a64-546f691dbd20"
      },
      "source": [
        "models"
      ],
      "execution_count": 21,
      "outputs": [
        {
          "output_type": "execute_result",
          "data": {
            "text/plain": [
              "[LGBMRegressor(boosting_type='gbdt', class_weight=None, colsample_bytree=1.0,\n",
              "               importance_type='split', learning_rate=0.1, max_depth=-1,\n",
              "               min_child_samples=20, min_child_weight=0.001, min_split_gain=0.0,\n",
              "               n_estimators=1000, n_jobs=-1, num_leaves=31, objective=None,\n",
              "               random_state=777, reg_alpha=0.0, reg_lambda=0.0, silent=True,\n",
              "               subsample=1.0, subsample_for_bin=200000, subsample_freq=0),\n",
              " LGBMRegressor(boosting_type='gbdt', class_weight=None, colsample_bytree=1.0,\n",
              "               importance_type='split', learning_rate=0.1, max_depth=-1,\n",
              "               min_child_samples=20, min_child_weight=0.001, min_split_gain=0.0,\n",
              "               n_estimators=1000, n_jobs=-1, num_leaves=31, objective=None,\n",
              "               random_state=777, reg_alpha=0.0, reg_lambda=0.0, silent=True,\n",
              "               subsample=1.0, subsample_for_bin=200000, subsample_freq=0),\n",
              " LGBMRegressor(boosting_type='gbdt', class_weight=None, colsample_bytree=1.0,\n",
              "               importance_type='split', learning_rate=0.1, max_depth=-1,\n",
              "               min_child_samples=20, min_child_weight=0.001, min_split_gain=0.0,\n",
              "               n_estimators=1000, n_jobs=-1, num_leaves=31, objective=None,\n",
              "               random_state=777, reg_alpha=0.0, reg_lambda=0.0, silent=True,\n",
              "               subsample=1.0, subsample_for_bin=200000, subsample_freq=0),\n",
              " LGBMRegressor(boosting_type='gbdt', class_weight=None, colsample_bytree=1.0,\n",
              "               importance_type='split', learning_rate=0.1, max_depth=-1,\n",
              "               min_child_samples=20, min_child_weight=0.001, min_split_gain=0.0,\n",
              "               n_estimators=1000, n_jobs=-1, num_leaves=31, objective=None,\n",
              "               random_state=777, reg_alpha=0.0, reg_lambda=0.0, silent=True,\n",
              "               subsample=1.0, subsample_for_bin=200000, subsample_freq=0),\n",
              " LGBMRegressor(boosting_type='gbdt', class_weight=None, colsample_bytree=1.0,\n",
              "               importance_type='split', learning_rate=0.1, max_depth=-1,\n",
              "               min_child_samples=20, min_child_weight=0.001, min_split_gain=0.0,\n",
              "               n_estimators=1000, n_jobs=-1, num_leaves=31, objective=None,\n",
              "               random_state=777, reg_alpha=0.0, reg_lambda=0.0, silent=True,\n",
              "               subsample=1.0, subsample_for_bin=200000, subsample_freq=0)]"
            ]
          },
          "metadata": {},
          "execution_count": 21
        }
      ]
    },
    {
      "cell_type": "code",
      "metadata": {
        "colab": {
          "base_uri": "https://localhost:8080/"
        },
        "id": "ZWvTlU0bTk0I",
        "outputId": "1a766d95-8a99-41ac-beff-bacbf59b8e95"
      },
      "source": [
        "preds = []\n",
        "for model in models:\n",
        "    preds.append(model.predict(X_test))\n",
        "len(preds)"
      ],
      "execution_count": 22,
      "outputs": [
        {
          "output_type": "execute_result",
          "data": {
            "text/plain": [
              "5"
            ]
          },
          "metadata": {},
          "execution_count": 22
        }
      ]
    },
    {
      "cell_type": "code",
      "metadata": {
        "id": "nTqP_XY3TmcI"
      },
      "source": [
        "kfoldLightGBM = submission.copy()"
      ],
      "execution_count": 23,
      "outputs": []
    },
    {
      "cell_type": "code",
      "metadata": {
        "id": "bJ99kTTuToPE"
      },
      "source": [
        "import numpy as np"
      ],
      "execution_count": 24,
      "outputs": []
    },
    {
      "cell_type": "code",
      "metadata": {
        "id": "yXU9SthdTppF"
      },
      "source": [
        "kfoldLightGBM['box_off_num'] = np.mean(preds, axis = 0)"
      ],
      "execution_count": 25,
      "outputs": []
    },
    {
      "cell_type": "code",
      "metadata": {
        "id": "LeiNCmO0Tqu7"
      },
      "source": [
        "kfoldLightGBM.to_csv('/content/kfoldLightGBM.csv', index = False)"
      ],
      "execution_count": 27,
      "outputs": []
    },
    {
      "cell_type": "code",
      "metadata": {
        "colab": {
          "base_uri": "https://localhost:8080/",
          "height": 414
        },
        "id": "y1rUgaEFTsfD",
        "outputId": "da569e46-49ff-4df7-886a-1d5dfc411ada"
      },
      "source": [
        "kfoldLightGBM"
      ],
      "execution_count": 28,
      "outputs": [
        {
          "output_type": "execute_result",
          "data": {
            "text/html": [
              "<div>\n",
              "<style scoped>\n",
              "    .dataframe tbody tr th:only-of-type {\n",
              "        vertical-align: middle;\n",
              "    }\n",
              "\n",
              "    .dataframe tbody tr th {\n",
              "        vertical-align: top;\n",
              "    }\n",
              "\n",
              "    .dataframe thead th {\n",
              "        text-align: right;\n",
              "    }\n",
              "</style>\n",
              "<table border=\"1\" class=\"dataframe\">\n",
              "  <thead>\n",
              "    <tr style=\"text-align: right;\">\n",
              "      <th></th>\n",
              "      <th>title</th>\n",
              "      <th>box_off_num</th>\n",
              "    </tr>\n",
              "  </thead>\n",
              "  <tbody>\n",
              "    <tr>\n",
              "      <th>0</th>\n",
              "      <td>용서는 없다</td>\n",
              "      <td>3.367422e+06</td>\n",
              "    </tr>\n",
              "    <tr>\n",
              "      <th>1</th>\n",
              "      <td>아빠가 여자를 좋아해</td>\n",
              "      <td>9.611389e+05</td>\n",
              "    </tr>\n",
              "    <tr>\n",
              "      <th>2</th>\n",
              "      <td>하모니</td>\n",
              "      <td>1.097930e+06</td>\n",
              "    </tr>\n",
              "    <tr>\n",
              "      <th>3</th>\n",
              "      <td>의형제</td>\n",
              "      <td>2.097271e+06</td>\n",
              "    </tr>\n",
              "    <tr>\n",
              "      <th>4</th>\n",
              "      <td>평행 이론</td>\n",
              "      <td>7.814763e+05</td>\n",
              "    </tr>\n",
              "    <tr>\n",
              "      <th>...</th>\n",
              "      <td>...</td>\n",
              "      <td>...</td>\n",
              "    </tr>\n",
              "    <tr>\n",
              "      <th>238</th>\n",
              "      <td>해에게서 소년에게</td>\n",
              "      <td>1.770958e+05</td>\n",
              "    </tr>\n",
              "    <tr>\n",
              "      <th>239</th>\n",
              "      <td>울보 권투부</td>\n",
              "      <td>2.102555e+05</td>\n",
              "    </tr>\n",
              "    <tr>\n",
              "      <th>240</th>\n",
              "      <td>어떤살인</td>\n",
              "      <td>3.605476e+05</td>\n",
              "    </tr>\n",
              "    <tr>\n",
              "      <th>241</th>\n",
              "      <td>말하지 못한 비밀</td>\n",
              "      <td>1.815082e+05</td>\n",
              "    </tr>\n",
              "    <tr>\n",
              "      <th>242</th>\n",
              "      <td>조선안방 스캔들-칠거지악 2</td>\n",
              "      <td>5.517122e+04</td>\n",
              "    </tr>\n",
              "  </tbody>\n",
              "</table>\n",
              "<p>243 rows × 2 columns</p>\n",
              "</div>"
            ],
            "text/plain": [
              "               title   box_off_num\n",
              "0             용서는 없다  3.367422e+06\n",
              "1        아빠가 여자를 좋아해  9.611389e+05\n",
              "2                하모니  1.097930e+06\n",
              "3                의형제  2.097271e+06\n",
              "4              평행 이론  7.814763e+05\n",
              "..               ...           ...\n",
              "238        해에게서 소년에게  1.770958e+05\n",
              "239           울보 권투부  2.102555e+05\n",
              "240             어떤살인  3.605476e+05\n",
              "241        말하지 못한 비밀  1.815082e+05\n",
              "242  조선안방 스캔들-칠거지악 2  5.517122e+04\n",
              "\n",
              "[243 rows x 2 columns]"
            ]
          },
          "metadata": {},
          "execution_count": 28
        }
      ]
    },
    {
      "cell_type": "code",
      "metadata": {
        "id": "2fh6G0bsTyEV"
      },
      "source": [
        "from sklearn import preprocessing\n",
        "le = preprocessing.LabelEncoder()\n",
        "train['genre'] = le.fit_transform(train['genre'])"
      ],
      "execution_count": 29,
      "outputs": []
    },
    {
      "cell_type": "code",
      "metadata": {
        "id": "uSGTMR0YT0o2"
      },
      "source": [
        "test['genre'] = le.transform(test['genre'])"
      ],
      "execution_count": 30,
      "outputs": []
    },
    {
      "cell_type": "code",
      "metadata": {
        "id": "GR0_ug-NVapa"
      },
      "source": [
        "train['release_time']=train.release_time.apply(pd.to_datetime)\n",
        "train['month'] = train.release_time.apply(lambda x : x.month)\n",
        "test['release_time'] = test.release_time.apply(pd.to_datetime)\n",
        "test['month'] = test.release_time.apply(lambda x : x.month)\n",
        "\n",
        "train.drop(['release_time'],axis=1, inplace=True)\n",
        "test.drop(['release_time'],axis=1, inplace=True)\n"
      ],
      "execution_count": 55,
      "outputs": []
    },
    {
      "cell_type": "code",
      "metadata": {
        "id": "gaS0F4wOXbOu"
      },
      "source": [
        "train['is_adult'] = [ 1 if train.iloc[x, 5] != '청소년 관람불가' else 0 for x in range(0,600)]\n",
        "test['is_adult'] = [ 1 if test.iloc[x, 4] != '청소년 관람불가' else 0 for x in range(0,test.shape[0])]\n"
      ],
      "execution_count": 75,
      "outputs": []
    },
    {
      "cell_type": "code",
      "metadata": {
        "colab": {
          "base_uri": "https://localhost:8080/",
          "height": 268
        },
        "id": "qxLqKUcWbNk0",
        "outputId": "ce63bdec-ed4d-4584-fb7c-b79a21ee88a8"
      },
      "source": [
        "train['genre'] = le.inverse_transform(train['genre'])\n",
        "test['genre'] = le.inverse_transform(test['genre'])\n",
        "\n",
        "train.head(5)"
      ],
      "execution_count": 94,
      "outputs": [
        {
          "output_type": "execute_result",
          "data": {
            "text/html": [
              "<div>\n",
              "<style scoped>\n",
              "    .dataframe tbody tr th:only-of-type {\n",
              "        vertical-align: middle;\n",
              "    }\n",
              "\n",
              "    .dataframe tbody tr th {\n",
              "        vertical-align: top;\n",
              "    }\n",
              "\n",
              "    .dataframe thead th {\n",
              "        text-align: right;\n",
              "    }\n",
              "</style>\n",
              "<table border=\"1\" class=\"dataframe\">\n",
              "  <thead>\n",
              "    <tr style=\"text-align: right;\">\n",
              "      <th></th>\n",
              "      <th>title</th>\n",
              "      <th>distributor</th>\n",
              "      <th>genre</th>\n",
              "      <th>time</th>\n",
              "      <th>screening_rat</th>\n",
              "      <th>director</th>\n",
              "      <th>dir_prev_bfnum</th>\n",
              "      <th>dir_prev_num</th>\n",
              "      <th>num_staff</th>\n",
              "      <th>num_actor</th>\n",
              "      <th>box_off_num</th>\n",
              "      <th>month</th>\n",
              "      <th>is_adult</th>\n",
              "    </tr>\n",
              "  </thead>\n",
              "  <tbody>\n",
              "    <tr>\n",
              "      <th>0</th>\n",
              "      <td>개들의 전쟁</td>\n",
              "      <td>롯데엔터테인먼트</td>\n",
              "      <td>액션</td>\n",
              "      <td>96</td>\n",
              "      <td>청소년 관람불가</td>\n",
              "      <td>조병옥</td>\n",
              "      <td>0.00</td>\n",
              "      <td>0</td>\n",
              "      <td>91</td>\n",
              "      <td>2</td>\n",
              "      <td>23398</td>\n",
              "      <td>11</td>\n",
              "      <td>1</td>\n",
              "    </tr>\n",
              "    <tr>\n",
              "      <th>1</th>\n",
              "      <td>내부자들</td>\n",
              "      <td>(주)쇼박스</td>\n",
              "      <td>느와르</td>\n",
              "      <td>130</td>\n",
              "      <td>청소년 관람불가</td>\n",
              "      <td>우민호</td>\n",
              "      <td>1161602.50</td>\n",
              "      <td>2</td>\n",
              "      <td>387</td>\n",
              "      <td>3</td>\n",
              "      <td>7072501</td>\n",
              "      <td>11</td>\n",
              "      <td>1</td>\n",
              "    </tr>\n",
              "    <tr>\n",
              "      <th>2</th>\n",
              "      <td>은밀하게 위대하게</td>\n",
              "      <td>(주)쇼박스</td>\n",
              "      <td>액션</td>\n",
              "      <td>123</td>\n",
              "      <td>15세 관람가</td>\n",
              "      <td>장철수</td>\n",
              "      <td>220775.25</td>\n",
              "      <td>4</td>\n",
              "      <td>343</td>\n",
              "      <td>4</td>\n",
              "      <td>6959083</td>\n",
              "      <td>6</td>\n",
              "      <td>1</td>\n",
              "    </tr>\n",
              "    <tr>\n",
              "      <th>3</th>\n",
              "      <td>나는 공무원이다</td>\n",
              "      <td>(주)NEW</td>\n",
              "      <td>코미디</td>\n",
              "      <td>101</td>\n",
              "      <td>전체 관람가</td>\n",
              "      <td>구자홍</td>\n",
              "      <td>23894.00</td>\n",
              "      <td>2</td>\n",
              "      <td>20</td>\n",
              "      <td>6</td>\n",
              "      <td>217866</td>\n",
              "      <td>7</td>\n",
              "      <td>1</td>\n",
              "    </tr>\n",
              "    <tr>\n",
              "      <th>4</th>\n",
              "      <td>불량남녀</td>\n",
              "      <td>쇼박스(주)미디어플렉스</td>\n",
              "      <td>코미디</td>\n",
              "      <td>108</td>\n",
              "      <td>15세 관람가</td>\n",
              "      <td>신근호</td>\n",
              "      <td>1.00</td>\n",
              "      <td>1</td>\n",
              "      <td>251</td>\n",
              "      <td>2</td>\n",
              "      <td>483387</td>\n",
              "      <td>11</td>\n",
              "      <td>1</td>\n",
              "    </tr>\n",
              "  </tbody>\n",
              "</table>\n",
              "</div>"
            ],
            "text/plain": [
              "       title   distributor genre  time  ... num_actor box_off_num  month  is_adult\n",
              "0     개들의 전쟁      롯데엔터테인먼트    액션    96  ...         2       23398     11         1\n",
              "1       내부자들        (주)쇼박스   느와르   130  ...         3     7072501     11         1\n",
              "2  은밀하게 위대하게        (주)쇼박스    액션   123  ...         4     6959083      6         1\n",
              "3   나는 공무원이다        (주)NEW   코미디   101  ...         6      217866      7         1\n",
              "4       불량남녀  쇼박스(주)미디어플렉스   코미디   108  ...         2      483387     11         1\n",
              "\n",
              "[5 rows x 13 columns]"
            ]
          },
          "metadata": {},
          "execution_count": 94
        }
      ]
    },
    {
      "cell_type": "code",
      "metadata": {
        "id": "BEfe8IIQbKVb"
      },
      "source": [
        "# 데이터에서 장르,관람등급 피처만 추출해서 데이터프레임 만들기\n",
        "train_sam = train[['genre','screening_rat']]\n",
        "test_sam = test[['genre','screening_rat']]\n",
        "\n",
        "# 해당 데이터 프레임에 있는 피처들로 원핫인코딩\n",
        "train_sam = pd.get_dummies(train_sam)\n",
        "test_sam = pd.get_dummies(test_sam)\n",
        "\n",
        "# 기존 트레인, 테스트 데이터에서 장르, 관람등급 피처 삭제\n",
        "train.drop(['genre','screening_rat'],axis=1, inplace=True)\n",
        "test.drop(['genre','screening_rat'],axis=1, inplace=True)\n",
        "\n",
        "#원핫 인코딩 된걸 기존 트레인,테스트 데이터(장르 관람등급 삭제된 버전)와 병합해서 새 데이터 만들기\n",
        "train = pd.concat([train,train_sam],axis=1)\n",
        "test = pd.concat([test,test_sam],axis=1)\n"
      ],
      "execution_count": 95,
      "outputs": []
    },
    {
      "cell_type": "code",
      "metadata": {
        "id": "iws8U3DTe7PM"
      },
      "source": [
        "df=pd.concat([train, test]).reset_index(drop=True)"
      ],
      "execution_count": 176,
      "outputs": []
    },
    {
      "cell_type": "code",
      "metadata": {
        "id": "5x2Eav4Ibplk"
      },
      "source": [
        "df['distributor']=df['distributor'].str.replace(\" \",\"\")\n",
        "\n",
        "for i in range(len(df)):\n",
        "  if \"CJ\" in df.iloc[i][\"distributor\"] or \"CGV\" in df.iloc[i][\"distributor\"]:\n",
        "    df.loc[i, \"distributor\"]=\"CJ\"\n",
        "  elif \"롯데\" in df.iloc[i][\"distributor\"]:\n",
        "    df.loc[i, \"distributor\"]=\"롯데엔터테인먼트\"\n",
        "  elif \"마운틴\" in df.iloc[i][\"distributor\"]:\n",
        "    df.loc[i, \"distributor\"]=\"마운틴픽쳐스\"\n",
        "  elif \"쇼박스\" in df.iloc[i][\"distributor\"]:\n",
        "    df.loc[i, \"distributor\"]=\"쇼박스\"\n",
        "  elif \"NEW\" in df.iloc[i][\"distributor\"]:\n",
        "    df.loc[i, \"distributor\"]=\"NEW\"\n",
        "  elif \"시네마달\" in df.iloc[i][\"distributor\"]:\n",
        "    df.loc[i, \"distributor\"]=\"시네마달\"\n",
        "  elif \"꼴라쥬\" in df.iloc[i][\"distributor\"]:\n",
        "    df.loc[i, \"distributor\"]=\"무비꼴라쥬\"\n",
        "  elif \"리틀\" in df.iloc[i][\"distributor\"]:\n",
        "    df.loc[i, \"distributor\"]=\"리틀빅픽처스\"\n",
        "  elif \"스폰지\" in df.iloc[i][\"distributor\"]:\n",
        "    df.loc[i, \"distributor\"]=\"스폰지이엔티\"\n",
        "  elif \"메가박스\" in df.iloc[i][\"distributor\"]:\n",
        "    df.loc[i, \"distributor\"]=\"메가박스\"\n",
        "  elif \"싸이더스\" in df.iloc[i][\"distributor\"]:\n",
        "    df.loc[i, \"distributor\"]=\"싸이더스\"\n",
        "  elif \"타임\" in df.iloc[i][\"distributor\"]:\n",
        "    df.loc[i, \"distributor\"]=\"타임스토리\"\n",
        "  elif \"드림팩트\" in df.iloc[i][\"distributor\"]:\n",
        "    df.loc[i, \"distributor\"]=\"드림팩트엔터테인먼트\"\n",
        "\n",
        "dis_cnt=pd.DataFrame(df[\"distributor\"].value_counts())\n",
        "\n",
        "df[\"distributor_weight\"]=[0]*len(df)\n",
        "\n",
        "for i in range(len(df)):\n",
        "  dis=df.loc[i, \"distributor\"]\n",
        "  if dis_cnt.loc[dis, \"distributor\"]<=2:\n",
        "    df.loc[i, \"distributor\"]=\"소형배급사\"\n",
        "  else:\n",
        "    df.loc[i, \"distributor_weight\"]=dis_cnt.loc[dis, \"distributor\"]/len(dis_cnt)"
      ],
      "execution_count": 177,
      "outputs": []
    },
    {
      "cell_type": "code",
      "metadata": {
        "colab": {
          "base_uri": "https://localhost:8080/"
        },
        "id": "dmtJSnxJiw9f",
        "outputId": "75a0369c-0238-4c51-d3f0-da091c1bd11d"
      },
      "source": [
        "train['box_off_num']=np.log1p(train['box_off_num'])"
      ],
      "execution_count": 193,
      "outputs": [
        {
          "output_type": "stream",
          "name": "stderr",
          "text": [
            "/usr/local/lib/python3.7/dist-packages/ipykernel_launcher.py:1: SettingWithCopyWarning: \n",
            "A value is trying to be set on a copy of a slice from a DataFrame.\n",
            "Try using .loc[row_indexer,col_indexer] = value instead\n",
            "\n",
            "See the caveats in the documentation: https://pandas.pydata.org/pandas-docs/stable/user_guide/indexing.html#returning-a-view-versus-a-copy\n",
            "  \"\"\"Entry point for launching an IPython kernel.\n"
          ]
        }
      ]
    },
    {
      "cell_type": "code",
      "metadata": {
        "colab": {
          "base_uri": "https://localhost:8080/",
          "height": 717
        },
        "id": "svpYk-m4jsRS",
        "outputId": "9b66ca38-3c61-490b-b484-ccde23a8c620"
      },
      "source": [
        "train"
      ],
      "execution_count": 194,
      "outputs": [
        {
          "output_type": "execute_result",
          "data": {
            "text/html": [
              "<div>\n",
              "<style scoped>\n",
              "    .dataframe tbody tr th:only-of-type {\n",
              "        vertical-align: middle;\n",
              "    }\n",
              "\n",
              "    .dataframe tbody tr th {\n",
              "        vertical-align: top;\n",
              "    }\n",
              "\n",
              "    .dataframe thead th {\n",
              "        text-align: right;\n",
              "    }\n",
              "</style>\n",
              "<table border=\"1\" class=\"dataframe\">\n",
              "  <thead>\n",
              "    <tr style=\"text-align: right;\">\n",
              "      <th></th>\n",
              "      <th>title</th>\n",
              "      <th>distributor</th>\n",
              "      <th>time</th>\n",
              "      <th>director</th>\n",
              "      <th>dir_prev_bfnum</th>\n",
              "      <th>dir_prev_num</th>\n",
              "      <th>num_staff</th>\n",
              "      <th>num_actor</th>\n",
              "      <th>box_off_num</th>\n",
              "      <th>month</th>\n",
              "      <th>is_adult</th>\n",
              "      <th>genre_SF</th>\n",
              "      <th>genre_공포</th>\n",
              "      <th>genre_느와르</th>\n",
              "      <th>genre_다큐멘터리</th>\n",
              "      <th>genre_드라마</th>\n",
              "      <th>genre_멜로/로맨스</th>\n",
              "      <th>genre_뮤지컬</th>\n",
              "      <th>genre_미스터리</th>\n",
              "      <th>genre_서스펜스</th>\n",
              "      <th>genre_애니메이션</th>\n",
              "      <th>genre_액션</th>\n",
              "      <th>genre_코미디</th>\n",
              "      <th>screening_rat_12세 관람가</th>\n",
              "      <th>screening_rat_15세 관람가</th>\n",
              "      <th>screening_rat_전체 관람가</th>\n",
              "      <th>screening_rat_청소년 관람불가</th>\n",
              "      <th>distributor_weight</th>\n",
              "      <th>index</th>\n",
              "    </tr>\n",
              "  </thead>\n",
              "  <tbody>\n",
              "    <tr>\n",
              "      <th>0</th>\n",
              "      <td>개들의 전쟁</td>\n",
              "      <td>롯데엔터테인먼트</td>\n",
              "      <td>96</td>\n",
              "      <td>조병옥</td>\n",
              "      <td>0.00</td>\n",
              "      <td>0</td>\n",
              "      <td>91</td>\n",
              "      <td>2</td>\n",
              "      <td>2.403376</td>\n",
              "      <td>11</td>\n",
              "      <td>1</td>\n",
              "      <td>0</td>\n",
              "      <td>0</td>\n",
              "      <td>0</td>\n",
              "      <td>0</td>\n",
              "      <td>0</td>\n",
              "      <td>0</td>\n",
              "      <td>0</td>\n",
              "      <td>0</td>\n",
              "      <td>0</td>\n",
              "      <td>0</td>\n",
              "      <td>1</td>\n",
              "      <td>0</td>\n",
              "      <td>0</td>\n",
              "      <td>0</td>\n",
              "      <td>0</td>\n",
              "      <td>1</td>\n",
              "      <td>1.54</td>\n",
              "      <td>NaN</td>\n",
              "    </tr>\n",
              "    <tr>\n",
              "      <th>1</th>\n",
              "      <td>내부자들</td>\n",
              "      <td>쇼박스</td>\n",
              "      <td>130</td>\n",
              "      <td>우민호</td>\n",
              "      <td>1161602.50</td>\n",
              "      <td>2</td>\n",
              "      <td>387</td>\n",
              "      <td>3</td>\n",
              "      <td>2.819694</td>\n",
              "      <td>11</td>\n",
              "      <td>1</td>\n",
              "      <td>0</td>\n",
              "      <td>0</td>\n",
              "      <td>1</td>\n",
              "      <td>0</td>\n",
              "      <td>0</td>\n",
              "      <td>0</td>\n",
              "      <td>0</td>\n",
              "      <td>0</td>\n",
              "      <td>0</td>\n",
              "      <td>0</td>\n",
              "      <td>0</td>\n",
              "      <td>0</td>\n",
              "      <td>0</td>\n",
              "      <td>0</td>\n",
              "      <td>0</td>\n",
              "      <td>1</td>\n",
              "      <td>0.84</td>\n",
              "      <td>NaN</td>\n",
              "    </tr>\n",
              "    <tr>\n",
              "      <th>2</th>\n",
              "      <td>은밀하게 위대하게</td>\n",
              "      <td>쇼박스</td>\n",
              "      <td>123</td>\n",
              "      <td>장철수</td>\n",
              "      <td>220775.25</td>\n",
              "      <td>4</td>\n",
              "      <td>343</td>\n",
              "      <td>4</td>\n",
              "      <td>2.818730</td>\n",
              "      <td>6</td>\n",
              "      <td>1</td>\n",
              "      <td>0</td>\n",
              "      <td>0</td>\n",
              "      <td>0</td>\n",
              "      <td>0</td>\n",
              "      <td>0</td>\n",
              "      <td>0</td>\n",
              "      <td>0</td>\n",
              "      <td>0</td>\n",
              "      <td>0</td>\n",
              "      <td>0</td>\n",
              "      <td>1</td>\n",
              "      <td>0</td>\n",
              "      <td>0</td>\n",
              "      <td>1</td>\n",
              "      <td>0</td>\n",
              "      <td>0</td>\n",
              "      <td>0.84</td>\n",
              "      <td>NaN</td>\n",
              "    </tr>\n",
              "    <tr>\n",
              "      <th>3</th>\n",
              "      <td>나는 공무원이다</td>\n",
              "      <td>NEW</td>\n",
              "      <td>101</td>\n",
              "      <td>구자홍</td>\n",
              "      <td>23894.00</td>\n",
              "      <td>2</td>\n",
              "      <td>20</td>\n",
              "      <td>6</td>\n",
              "      <td>2.587135</td>\n",
              "      <td>7</td>\n",
              "      <td>1</td>\n",
              "      <td>0</td>\n",
              "      <td>0</td>\n",
              "      <td>0</td>\n",
              "      <td>0</td>\n",
              "      <td>0</td>\n",
              "      <td>0</td>\n",
              "      <td>0</td>\n",
              "      <td>0</td>\n",
              "      <td>0</td>\n",
              "      <td>0</td>\n",
              "      <td>0</td>\n",
              "      <td>1</td>\n",
              "      <td>0</td>\n",
              "      <td>0</td>\n",
              "      <td>1</td>\n",
              "      <td>0</td>\n",
              "      <td>0.96</td>\n",
              "      <td>NaN</td>\n",
              "    </tr>\n",
              "    <tr>\n",
              "      <th>4</th>\n",
              "      <td>불량남녀</td>\n",
              "      <td>쇼박스</td>\n",
              "      <td>108</td>\n",
              "      <td>신근호</td>\n",
              "      <td>1.00</td>\n",
              "      <td>1</td>\n",
              "      <td>251</td>\n",
              "      <td>2</td>\n",
              "      <td>2.645364</td>\n",
              "      <td>11</td>\n",
              "      <td>1</td>\n",
              "      <td>0</td>\n",
              "      <td>0</td>\n",
              "      <td>0</td>\n",
              "      <td>0</td>\n",
              "      <td>0</td>\n",
              "      <td>0</td>\n",
              "      <td>0</td>\n",
              "      <td>0</td>\n",
              "      <td>0</td>\n",
              "      <td>0</td>\n",
              "      <td>0</td>\n",
              "      <td>1</td>\n",
              "      <td>0</td>\n",
              "      <td>1</td>\n",
              "      <td>0</td>\n",
              "      <td>0</td>\n",
              "      <td>0.84</td>\n",
              "      <td>NaN</td>\n",
              "    </tr>\n",
              "    <tr>\n",
              "      <th>...</th>\n",
              "      <td>...</td>\n",
              "      <td>...</td>\n",
              "      <td>...</td>\n",
              "      <td>...</td>\n",
              "      <td>...</td>\n",
              "      <td>...</td>\n",
              "      <td>...</td>\n",
              "      <td>...</td>\n",
              "      <td>...</td>\n",
              "      <td>...</td>\n",
              "      <td>...</td>\n",
              "      <td>...</td>\n",
              "      <td>...</td>\n",
              "      <td>...</td>\n",
              "      <td>...</td>\n",
              "      <td>...</td>\n",
              "      <td>...</td>\n",
              "      <td>...</td>\n",
              "      <td>...</td>\n",
              "      <td>...</td>\n",
              "      <td>...</td>\n",
              "      <td>...</td>\n",
              "      <td>...</td>\n",
              "      <td>...</td>\n",
              "      <td>...</td>\n",
              "      <td>...</td>\n",
              "      <td>...</td>\n",
              "      <td>...</td>\n",
              "      <td>...</td>\n",
              "    </tr>\n",
              "    <tr>\n",
              "      <th>595</th>\n",
              "      <td>해무</td>\n",
              "      <td>NEW</td>\n",
              "      <td>111</td>\n",
              "      <td>심성보</td>\n",
              "      <td>3833.00</td>\n",
              "      <td>1</td>\n",
              "      <td>510</td>\n",
              "      <td>7</td>\n",
              "      <td>2.721574</td>\n",
              "      <td>8</td>\n",
              "      <td>1</td>\n",
              "      <td>0</td>\n",
              "      <td>0</td>\n",
              "      <td>0</td>\n",
              "      <td>0</td>\n",
              "      <td>1</td>\n",
              "      <td>0</td>\n",
              "      <td>0</td>\n",
              "      <td>0</td>\n",
              "      <td>0</td>\n",
              "      <td>0</td>\n",
              "      <td>0</td>\n",
              "      <td>0</td>\n",
              "      <td>0</td>\n",
              "      <td>0</td>\n",
              "      <td>0</td>\n",
              "      <td>1</td>\n",
              "      <td>0.96</td>\n",
              "      <td>NaN</td>\n",
              "    </tr>\n",
              "    <tr>\n",
              "      <th>596</th>\n",
              "      <td>파파로티</td>\n",
              "      <td>쇼박스</td>\n",
              "      <td>127</td>\n",
              "      <td>윤종찬</td>\n",
              "      <td>496061.00</td>\n",
              "      <td>1</td>\n",
              "      <td>286</td>\n",
              "      <td>6</td>\n",
              "      <td>2.731491</td>\n",
              "      <td>3</td>\n",
              "      <td>1</td>\n",
              "      <td>0</td>\n",
              "      <td>0</td>\n",
              "      <td>0</td>\n",
              "      <td>0</td>\n",
              "      <td>1</td>\n",
              "      <td>0</td>\n",
              "      <td>0</td>\n",
              "      <td>0</td>\n",
              "      <td>0</td>\n",
              "      <td>0</td>\n",
              "      <td>0</td>\n",
              "      <td>0</td>\n",
              "      <td>0</td>\n",
              "      <td>1</td>\n",
              "      <td>0</td>\n",
              "      <td>0</td>\n",
              "      <td>0.84</td>\n",
              "      <td>NaN</td>\n",
              "    </tr>\n",
              "    <tr>\n",
              "      <th>597</th>\n",
              "      <td>살인의 강</td>\n",
              "      <td>마운틴픽쳐스</td>\n",
              "      <td>99</td>\n",
              "      <td>김대현</td>\n",
              "      <td>0.00</td>\n",
              "      <td>0</td>\n",
              "      <td>123</td>\n",
              "      <td>4</td>\n",
              "      <td>2.176387</td>\n",
              "      <td>9</td>\n",
              "      <td>1</td>\n",
              "      <td>0</td>\n",
              "      <td>1</td>\n",
              "      <td>0</td>\n",
              "      <td>0</td>\n",
              "      <td>0</td>\n",
              "      <td>0</td>\n",
              "      <td>0</td>\n",
              "      <td>0</td>\n",
              "      <td>0</td>\n",
              "      <td>0</td>\n",
              "      <td>0</td>\n",
              "      <td>0</td>\n",
              "      <td>0</td>\n",
              "      <td>0</td>\n",
              "      <td>0</td>\n",
              "      <td>1</td>\n",
              "      <td>0.98</td>\n",
              "      <td>NaN</td>\n",
              "    </tr>\n",
              "    <tr>\n",
              "      <th>598</th>\n",
              "      <td>악의 연대기</td>\n",
              "      <td>CJ</td>\n",
              "      <td>102</td>\n",
              "      <td>백운학</td>\n",
              "      <td>0.00</td>\n",
              "      <td>0</td>\n",
              "      <td>431</td>\n",
              "      <td>4</td>\n",
              "      <td>2.747307</td>\n",
              "      <td>5</td>\n",
              "      <td>1</td>\n",
              "      <td>0</td>\n",
              "      <td>0</td>\n",
              "      <td>1</td>\n",
              "      <td>0</td>\n",
              "      <td>0</td>\n",
              "      <td>0</td>\n",
              "      <td>0</td>\n",
              "      <td>0</td>\n",
              "      <td>0</td>\n",
              "      <td>0</td>\n",
              "      <td>0</td>\n",
              "      <td>0</td>\n",
              "      <td>0</td>\n",
              "      <td>1</td>\n",
              "      <td>0</td>\n",
              "      <td>0</td>\n",
              "      <td>2.02</td>\n",
              "      <td>NaN</td>\n",
              "    </tr>\n",
              "    <tr>\n",
              "      <th>599</th>\n",
              "      <td>베를린</td>\n",
              "      <td>CJ</td>\n",
              "      <td>120</td>\n",
              "      <td>류승완</td>\n",
              "      <td>0.00</td>\n",
              "      <td>0</td>\n",
              "      <td>363</td>\n",
              "      <td>5</td>\n",
              "      <td>2.820482</td>\n",
              "      <td>1</td>\n",
              "      <td>1</td>\n",
              "      <td>0</td>\n",
              "      <td>0</td>\n",
              "      <td>0</td>\n",
              "      <td>0</td>\n",
              "      <td>0</td>\n",
              "      <td>0</td>\n",
              "      <td>0</td>\n",
              "      <td>0</td>\n",
              "      <td>0</td>\n",
              "      <td>0</td>\n",
              "      <td>1</td>\n",
              "      <td>0</td>\n",
              "      <td>0</td>\n",
              "      <td>1</td>\n",
              "      <td>0</td>\n",
              "      <td>0</td>\n",
              "      <td>2.02</td>\n",
              "      <td>NaN</td>\n",
              "    </tr>\n",
              "  </tbody>\n",
              "</table>\n",
              "<p>600 rows × 29 columns</p>\n",
              "</div>"
            ],
            "text/plain": [
              "         title distributor  ...  distributor_weight index\n",
              "0       개들의 전쟁    롯데엔터테인먼트  ...                1.54   NaN\n",
              "1         내부자들         쇼박스  ...                0.84   NaN\n",
              "2    은밀하게 위대하게         쇼박스  ...                0.84   NaN\n",
              "3     나는 공무원이다         NEW  ...                0.96   NaN\n",
              "4         불량남녀         쇼박스  ...                0.84   NaN\n",
              "..         ...         ...  ...                 ...   ...\n",
              "595         해무         NEW  ...                0.96   NaN\n",
              "596       파파로티         쇼박스  ...                0.84   NaN\n",
              "597      살인의 강      마운틴픽쳐스  ...                0.98   NaN\n",
              "598     악의 연대기          CJ  ...                2.02   NaN\n",
              "599        베를린          CJ  ...                2.02   NaN\n",
              "\n",
              "[600 rows x 29 columns]"
            ]
          },
          "metadata": {},
          "execution_count": 194
        }
      ]
    },
    {
      "cell_type": "code",
      "metadata": {
        "id": "NKTSojGZfFuq"
      },
      "source": [
        "train = df.iloc[:600,:]\n",
        "test = df.iloc[600:]\n",
        "test = test.reset_index()"
      ],
      "execution_count": 178,
      "outputs": []
    },
    {
      "cell_type": "code",
      "metadata": {
        "id": "o9CuAEYFT2m0"
      },
      "source": [
        "features = ['time', 'dir_prev_num', 'num_staff', 'num_actor', 'dir_prev_bfnum', 'genre_SF', 'genre_공포', 'genre_느와르', 'genre_다큐멘터리',\n",
        "       'genre_드라마', 'genre_멜로/로맨스', 'genre_뮤지컬', 'genre_미스터리', 'genre_서스펜스',\n",
        "       'genre_애니메이션', 'genre_액션', 'genre_코미디', 'screening_rat_12세 관람가',\n",
        "       'screening_rat_15세 관람가', 'screening_rat_전체 관람가',\n",
        "       'screening_rat_청소년 관람불가','distributor_weight']"
      ],
      "execution_count": 180,
      "outputs": []
    },
    {
      "cell_type": "code",
      "metadata": {
        "id": "uIeEeYZ2T3qZ"
      },
      "source": [
        "X_train, X_test, y_train = train[features], test[features], train[target]"
      ],
      "execution_count": 195,
      "outputs": []
    },
    {
      "cell_type": "code",
      "metadata": {
        "colab": {
          "base_uri": "https://localhost:8080/"
        },
        "id": "pNLC7j_1T85P",
        "outputId": "b9b982f1-cd28-4bac-ad76-24fcbbf1236b"
      },
      "source": [
        "model = lgb.LGBMRegressor(random_state=777, n_estimators=1000)\n",
        "\n",
        "models = []\n",
        "\n",
        "for train_idx, val_idx in k_fold.split(X_train):\n",
        "    x_t = X_train.iloc[train_idx]\n",
        "    y_t = y_train.iloc[train_idx]\n",
        "    x_val = X_train.iloc[val_idx]\n",
        "    y_val = y_train.iloc[val_idx]\n",
        "    \n",
        "    models.append(model.fit(x_t, y_t, eval_set=(x_val, y_val), early_stopping_rounds=100, verbose = 100))"
      ],
      "execution_count": 196,
      "outputs": [
        {
          "output_type": "stream",
          "name": "stdout",
          "text": [
            "Training until validation scores don't improve for 100 rounds.\n",
            "[100]\tvalid_0's l2: 0.0472818\n",
            "Early stopping, best iteration is:\n",
            "[17]\tvalid_0's l2: 0.0431155\n",
            "Training until validation scores don't improve for 100 rounds.\n",
            "[100]\tvalid_0's l2: 0.0563593\n",
            "Early stopping, best iteration is:\n",
            "[58]\tvalid_0's l2: 0.0540234\n",
            "Training until validation scores don't improve for 100 rounds.\n",
            "[100]\tvalid_0's l2: 0.0440922\n",
            "Early stopping, best iteration is:\n",
            "[40]\tvalid_0's l2: 0.0427425\n",
            "Training until validation scores don't improve for 100 rounds.\n",
            "[100]\tvalid_0's l2: 0.0474461\n",
            "Early stopping, best iteration is:\n",
            "[39]\tvalid_0's l2: 0.0446334\n",
            "Training until validation scores don't improve for 100 rounds.\n",
            "[100]\tvalid_0's l2: 0.0343772\n",
            "Early stopping, best iteration is:\n",
            "[78]\tvalid_0's l2: 0.0329013\n"
          ]
        }
      ]
    },
    {
      "cell_type": "code",
      "metadata": {
        "colab": {
          "base_uri": "https://localhost:8080/"
        },
        "id": "90XdT-2RT-bg",
        "outputId": "69eef2ba-e648-4392-9605-6cf9ad078f30"
      },
      "source": [
        "preds = []\n",
        "for model in models:\n",
        "    preds.append(model.predict(X_test))\n",
        "len(preds)"
      ],
      "execution_count": 197,
      "outputs": [
        {
          "output_type": "execute_result",
          "data": {
            "text/plain": [
              "5"
            ]
          },
          "metadata": {},
          "execution_count": 197
        }
      ]
    },
    {
      "cell_type": "code",
      "metadata": {
        "id": "pxh9c-35UBDN"
      },
      "source": [
        "feLightGBM = submission.copy()"
      ],
      "execution_count": 184,
      "outputs": []
    },
    {
      "cell_type": "code",
      "metadata": {
        "id": "_00NbcMIUCqj"
      },
      "source": [
        "feLightGBM['box_off_num'] = np.mean(preds, axis = 0)"
      ],
      "execution_count": 134,
      "outputs": []
    },
    {
      "cell_type": "code",
      "metadata": {
        "id": "Gjdy1nIvUEAu"
      },
      "source": [
        "feLightGBM.to_csv('/content/feLightGBM.csv', index = False)"
      ],
      "execution_count": 104,
      "outputs": []
    },
    {
      "cell_type": "code",
      "metadata": {
        "id": "ftrR8XxlUFz0"
      },
      "source": [
        "from sklearn.model_selection import GridSearchCV"
      ],
      "execution_count": 105,
      "outputs": []
    },
    {
      "cell_type": "code",
      "metadata": {
        "id": "2NjHf1i_UHyp"
      },
      "source": [
        "model = lgb.LGBMRegressor(random_state=777, n_estimators=1000)\n",
        "\n",
        "\n",
        "params = {\n",
        "    'learning_rate': [0.1, 0.01, 0.003],\n",
        "    'min_child_samples': [20, 30]}\n",
        "\n",
        "gs = GridSearchCV(estimator=model,\n",
        "            param_grid=params,\n",
        "            scoring='neg_mean_squared_error',\n",
        "            cv = k_fold)"
      ],
      "execution_count": 198,
      "outputs": []
    },
    {
      "cell_type": "code",
      "metadata": {
        "colab": {
          "base_uri": "https://localhost:8080/"
        },
        "id": "NHbmLfk2UJDg",
        "outputId": "01b10f32-db5c-487d-eb1f-f7fef325d9d9"
      },
      "source": [
        "gs.fit(X_train, y_train)"
      ],
      "execution_count": 199,
      "outputs": [
        {
          "output_type": "execute_result",
          "data": {
            "text/plain": [
              "GridSearchCV(cv=KFold(n_splits=5, random_state=777, shuffle=True),\n",
              "             error_score=nan,\n",
              "             estimator=LGBMRegressor(boosting_type='gbdt', class_weight=None,\n",
              "                                     colsample_bytree=1.0,\n",
              "                                     importance_type='split', learning_rate=0.1,\n",
              "                                     max_depth=-1, min_child_samples=20,\n",
              "                                     min_child_weight=0.001, min_split_gain=0.0,\n",
              "                                     n_estimators=1000, n_jobs=-1,\n",
              "                                     num_leaves=31, objective=None,\n",
              "                                     random_state=777, reg_alpha=0.0,\n",
              "                                     reg_lambda=0.0, silent=True, subsample=1.0,\n",
              "                                     subsample_for_bin=200000,\n",
              "                                     subsample_freq=0),\n",
              "             iid='deprecated', n_jobs=None,\n",
              "             param_grid={'learning_rate': [0.1, 0.01, 0.003],\n",
              "                         'min_child_samples': [20, 30]},\n",
              "             pre_dispatch='2*n_jobs', refit=True, return_train_score=False,\n",
              "             scoring='neg_mean_squared_error', verbose=0)"
            ]
          },
          "metadata": {},
          "execution_count": 199
        }
      ]
    },
    {
      "cell_type": "code",
      "metadata": {
        "colab": {
          "base_uri": "https://localhost:8080/"
        },
        "id": "CU9YdDc2ULNd",
        "outputId": "bfab3dcd-a1a9-494b-96c7-29e8ef93090e"
      },
      "source": [
        "gs.best_params_"
      ],
      "execution_count": 200,
      "outputs": [
        {
          "output_type": "execute_result",
          "data": {
            "text/plain": [
              "{'learning_rate': 0.003, 'min_child_samples': 20}"
            ]
          },
          "metadata": {},
          "execution_count": 200
        }
      ]
    },
    {
      "cell_type": "code",
      "metadata": {
        "colab": {
          "base_uri": "https://localhost:8080/"
        },
        "id": "j9XCJeKSUM4D",
        "outputId": "ec0475c1-af93-468c-df53-560359d941e6"
      },
      "source": [
        "model = lgb.LGBMRegressor(random_state=777, n_estimators=1000, learning_rate= 0.003, min_child_samples=30)\n",
        "\n",
        "models = []\n",
        "\n",
        "for train_idx, val_idx in k_fold.split(X_train):\n",
        "    x_t = X_train.iloc[train_idx]\n",
        "    y_t = y_train.iloc[train_idx]\n",
        "    x_val = X_train.iloc[val_idx]\n",
        "    y_val = y_train.iloc[val_idx]\n",
        "    \n",
        "    models.append(model.fit(x_t, y_t, eval_set=(x_val, y_val), early_stopping_rounds=100, verbose = 100))"
      ],
      "execution_count": 201,
      "outputs": [
        {
          "output_type": "stream",
          "name": "stdout",
          "text": [
            "Training until validation scores don't improve for 100 rounds.\n",
            "[100]\tvalid_0's l2: 0.0736141\n",
            "[200]\tvalid_0's l2: 0.0595921\n",
            "[300]\tvalid_0's l2: 0.0521671\n",
            "[400]\tvalid_0's l2: 0.0482822\n",
            "[500]\tvalid_0's l2: 0.046029\n",
            "[600]\tvalid_0's l2: 0.0447348\n",
            "[700]\tvalid_0's l2: 0.0438266\n",
            "[800]\tvalid_0's l2: 0.0434482\n",
            "[900]\tvalid_0's l2: 0.0431835\n",
            "[1000]\tvalid_0's l2: 0.0428976\n",
            "Did not meet early stopping. Best iteration is:\n",
            "[981]\tvalid_0's l2: 0.0428696\n",
            "Training until validation scores don't improve for 100 rounds.\n",
            "[100]\tvalid_0's l2: 0.0976973\n",
            "[200]\tvalid_0's l2: 0.0823118\n",
            "[300]\tvalid_0's l2: 0.072904\n",
            "[400]\tvalid_0's l2: 0.0670721\n",
            "[500]\tvalid_0's l2: 0.0631709\n",
            "[600]\tvalid_0's l2: 0.0607747\n",
            "[700]\tvalid_0's l2: 0.0592049\n",
            "[800]\tvalid_0's l2: 0.0585422\n",
            "[900]\tvalid_0's l2: 0.0575849\n",
            "[1000]\tvalid_0's l2: 0.056628\n",
            "Did not meet early stopping. Best iteration is:\n",
            "[1000]\tvalid_0's l2: 0.056628\n",
            "Training until validation scores don't improve for 100 rounds.\n",
            "[100]\tvalid_0's l2: 0.0838403\n",
            "[200]\tvalid_0's l2: 0.0685621\n",
            "[300]\tvalid_0's l2: 0.0601473\n",
            "[400]\tvalid_0's l2: 0.0547099\n",
            "[500]\tvalid_0's l2: 0.0515223\n",
            "[600]\tvalid_0's l2: 0.0494089\n",
            "[700]\tvalid_0's l2: 0.0478425\n",
            "[800]\tvalid_0's l2: 0.0471217\n",
            "[900]\tvalid_0's l2: 0.0464376\n",
            "[1000]\tvalid_0's l2: 0.0457009\n",
            "Did not meet early stopping. Best iteration is:\n",
            "[1000]\tvalid_0's l2: 0.0457009\n",
            "Training until validation scores don't improve for 100 rounds.\n",
            "[100]\tvalid_0's l2: 0.0875097\n",
            "[200]\tvalid_0's l2: 0.07064\n",
            "[300]\tvalid_0's l2: 0.0608358\n",
            "[400]\tvalid_0's l2: 0.0549347\n",
            "[500]\tvalid_0's l2: 0.0512017\n",
            "[600]\tvalid_0's l2: 0.0488078\n",
            "[700]\tvalid_0's l2: 0.0472744\n",
            "[800]\tvalid_0's l2: 0.0464268\n",
            "[900]\tvalid_0's l2: 0.0460737\n",
            "[1000]\tvalid_0's l2: 0.0453915\n",
            "Did not meet early stopping. Best iteration is:\n",
            "[1000]\tvalid_0's l2: 0.0453915\n",
            "Training until validation scores don't improve for 100 rounds.\n",
            "[100]\tvalid_0's l2: 0.0619944\n",
            "[200]\tvalid_0's l2: 0.0494786\n",
            "[300]\tvalid_0's l2: 0.0430833\n",
            "[400]\tvalid_0's l2: 0.0399041\n",
            "[500]\tvalid_0's l2: 0.0379089\n",
            "[600]\tvalid_0's l2: 0.0368772\n",
            "[700]\tvalid_0's l2: 0.0361344\n",
            "[800]\tvalid_0's l2: 0.0358873\n",
            "[900]\tvalid_0's l2: 0.0358378\n",
            "[1000]\tvalid_0's l2: 0.0356216\n",
            "Did not meet early stopping. Best iteration is:\n",
            "[999]\tvalid_0's l2: 0.0356203\n"
          ]
        }
      ]
    },
    {
      "cell_type": "code",
      "metadata": {
        "id": "82hq-vkXUOO_"
      },
      "source": [
        "preds = []\n",
        "for model in models:\n",
        "    preds.append(model.predict(X_test))"
      ],
      "execution_count": 202,
      "outputs": []
    },
    {
      "cell_type": "code",
      "metadata": {
        "colab": {
          "base_uri": "https://localhost:8080/"
        },
        "id": "f54_RFV4UQEs",
        "outputId": "822656ea-17a3-45f4-f675-3cac4424c547"
      },
      "source": [
        "gs.best_score_"
      ],
      "execution_count": 203,
      "outputs": [
        {
          "output_type": "execute_result",
          "data": {
            "text/plain": [
              "-0.04439240688364449"
            ]
          },
          "metadata": {},
          "execution_count": 203
        }
      ]
    },
    {
      "cell_type": "code",
      "metadata": {
        "colab": {
          "base_uri": "https://localhost:8080/"
        },
        "id": "TnMUAkSGV9fm",
        "outputId": "b625b1b0-0759-4d23-898d-5f4181911a75"
      },
      "source": [
        "rmse = np.sqrt(-1*gs.best_score_)\n",
        "print(rmse)"
      ],
      "execution_count": 191,
      "outputs": [
        {
          "output_type": "stream",
          "name": "stdout",
          "text": [
            "1479160.9478981674\n"
          ]
        }
      ]
    },
    {
      "cell_type": "code",
      "metadata": {
        "id": "k02tYA_TUSeu"
      },
      "source": [
        "gslgbm = submission.copy()"
      ],
      "execution_count": 172,
      "outputs": []
    },
    {
      "cell_type": "code",
      "metadata": {
        "id": "SrKfyriJUTAR"
      },
      "source": [
        "gslgbm['box_off_num'] =  np.mean(preds, axis = 0)"
      ],
      "execution_count": 173,
      "outputs": []
    },
    {
      "cell_type": "code",
      "metadata": {
        "id": "xZijRw0qUUu9"
      },
      "source": [
        "gslgbm.to_csv('/content/gslgbm.csv', index = False)"
      ],
      "execution_count": 174,
      "outputs": []
    },
    {
      "cell_type": "code",
      "metadata": {
        "id": "lVvPxrTqUWt8"
      },
      "source": [
        ""
      ],
      "execution_count": null,
      "outputs": []
    }
  ]
}